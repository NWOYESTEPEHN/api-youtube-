{
  "nbformat": 4,
  "nbformat_minor": 0,
  "metadata": {
    "colab": {
      "provenance": [],
      "collapsed_sections": [],
      "authorship_tag": "ABX9TyMdtYShqWs7AG2UYEcjfp4o",
      "include_colab_link": true
    },
    "kernelspec": {
      "name": "python3",
      "display_name": "Python 3"
    },
    "language_info": {
      "name": "python"
    }
  },
  "cells": [
    {
      "cell_type": "markdown",
      "metadata": {
        "id": "view-in-github",
        "colab_type": "text"
      },
      "source": [
        "<a href=\"https://colab.research.google.com/github/NWOYESTEPEHN/api-youtube-/blob/main/importing%20pandas%20dataframe%20to%20a%20AWS%20database.ipynb\" target=\"_parent\"><img src=\"https://colab.research.google.com/assets/colab-badge.svg\" alt=\"Open In Colab\"/></a>"
      ]
    },
    {
      "cell_type": "code",
      "source": [
        "!pip install psycopg2\n",
        "import psycopg2 as ps\n",
        "import pandas as pd"
      ],
      "metadata": {
        "id": "oBmk39Amf2Ch",
        "outputId": "b324dc7d-1bd0-45e4-ea7f-6352b59ae30d",
        "colab": {
          "base_uri": "https://localhost:8080/"
        }
      },
      "execution_count": 14,
      "outputs": [
        {
          "output_type": "stream",
          "name": "stdout",
          "text": [
            "Looking in indexes: https://pypi.org/simple, https://us-python.pkg.dev/colab-wheels/public/simple/\n",
            "Requirement already satisfied: psycopg2 in /usr/local/lib/python3.7/dist-packages (2.9.5)\n"
          ]
        }
      ]
    },
    {
      "cell_type": "code",
      "source": [
        "#upload your CSV files here\n",
        "df = pd.read_csv('/content/youtube_vids_2nd_pull.csv', index_col=0)\n",
        "\n",
        "df.head()"
      ],
      "metadata": {
        "id": "Zzy87sJbf5ZY"
      },
      "execution_count": null,
      "outputs": []
    },
    {
      "cell_type": "code",
      "source": [
        "#establish a connection to db\n",
        "def connect_to_db(host_name, dbname, port, username, password):\n",
        "    try:\n",
        "        conn = ps.connect(host=host_name, database=dbname, user=username, password=password, port=port)\n",
        "\n",
        "    except ps.OperationalError as e:\n",
        "     raise e\n",
        "    else:\n",
        "         print('connected')\n",
        "    return conn\n",
        "\n",
        "    def create_table(curr):\n",
        "      create_table_command = (\"\"\"CREATE TABLE IF NOT EXISTS videos (\n",
        "                    video_id VARCHAR(255) PRIMARY KEY,\n",
        "                    video_title TEXT NOT NULL,\n",
        "                    upload_date DATE NOT NULL DEFAULT CURRENT_DATE,\n",
        "                    view_count INTEGER NOT NULL,\n",
        "                    like_count INTEGER NOT NULL,\n",
        "                    dislike_count INTEGER NOT NULL,\n",
        "                    comment_count INTEGER NOT NULL\n",
        "            )\"\"\")\n",
        "\n",
        "    curr.execute(create_table_command)\n",
        "\n",
        "def insert_into_table(curr, video_id, video_title, upload_date, view_count, like_count, dislike_count, comment_count):\n",
        "    insert_into_videos = (\"\"\"INSERT INTO videos (video_id, video_title, upload_date,\n",
        "                        view_count, like_count, dislike_count,comment_count)\n",
        "    VALUES(%s,%s,%s,%s,%s,%s,%s);\"\"\")\n",
        "    row_to_insert = (video_id, video_title, upload_date, view_count, like_count, dislike_count, comment_count)\n",
        "    curr.execute(insert_into_videos, row_to_insert)\n",
        "\n",
        "\n",
        "def update_row(curr, video_id, video_title, view_count, like_count, dislike_count, comment_count):\n",
        "    query = (\"\"\"UPDATE videos\n",
        "            SET video_title = %s,\n",
        "                view_count = %s,\n",
        "                like_count = %s,\n",
        "                dislike_count = %s,\n",
        "                comment_count = %s\n",
        "            WHERE video_id = %s;\"\"\")\n",
        "    vars_to_update = (video_title, view_count, like_count, dislike_count, comment_count, video_id)\n",
        "    curr.execute(query, vars_to_update)\n",
        "\n",
        "\n",
        "def check_if_video_exists(curr, video_id): \n",
        "    query = (\"\"\"SELECT video_id FROM VIDEOS WHERE video_id = %s\"\"\")\n",
        "\n",
        "    curr.execute(query, (video_id,))\n",
        "    return curr.fetchone() is not None\n",
        "\n",
        "\n",
        "\n",
        "def truncate_table(curr):\n",
        "    truncate_table = (\"\"\"TRUNCATE TABLE videos\"\"\")\n",
        "\n",
        "    curr.execute(truncate_table)\n",
        "\n",
        "\n",
        "def append_from_df_to_db(curr,df):\n",
        "    for i, row in df.iterrows():\n",
        "        insert_into_table(curr, row['video_id'], row['video_title'], row['upload_date'], row['view_count']\n",
        "                          , row['like_count'], row['dislike_count'], row['comment_count'])\n",
        "\n",
        "\n",
        "def update_db(curr,df):\n",
        "    tmp_df = pd.DataFrame(columns=['video_id', 'video_title', 'upload_date', 'view_count',\n",
        "                                   'like_count', 'dislike_count', 'comment_count'])\n",
        "    for i, row in df.iterrows():\n",
        "        if check_if_video_exists(curr, row['video_id']): # If video already exists then we will update\n",
        "            update_row(curr,row['video_id'],row['video_title'],row['view_count'],row['like_count'],row['dislike_count'],row['comment_count'])\n",
        "        else: # The video doesn't exists so we will add it to a temp df and append it using append_from_df_to_db\n",
        "            tmp_df = tmp_df.append(row)\n",
        "\n",
        "    return tmp_df"
      ],
      "metadata": {
        "id": "_AhrmHBAjBFM"
      },
      "execution_count": null,
      "outputs": []
    },
    {
      "cell_type": "code",
      "source": [
        "host_name = 'xxxxxxxxxxxxxxx'\n",
        "dbname = 'xxxxxxxx'\n",
        "port = '5432'\n",
        "username = 'xxxxxxxxxx' \n",
        "password = 'xxxxxx.'\n",
        "conn = None\n",
        "\n",
        "#establish a connection to db\n",
        "conn = connect_to_db(host_name, dbname, port, username, password)\n",
        "curr = conn.cursor()"
      ],
      "metadata": {
        "id": "6LyEc0exgw4I"
      },
      "execution_count": null,
      "outputs": []
    },
    {
      "cell_type": "code",
      "source": [
        "#create table\n",
        "\n",
        "create_table(curr)"
      ],
      "metadata": {
        "id": "wA_34GWklrMA"
      },
      "execution_count": null,
      "outputs": []
    },
    {
      "cell_type": "code",
      "source": [
        "#update data for existing videos\n",
        "\n",
        "new_vid_df = update_db(curr,df)\n",
        "conn.commit()"
      ],
      "metadata": {
        "id": "cfhBbBKg1L42"
      },
      "execution_count": null,
      "outputs": []
    },
    {
      "cell_type": "code",
      "source": [
        "#insert new videos into db table\n",
        "\n",
        "append_from_df_to_db(curr, new_vid_df)\n",
        "conn.commit()"
      ],
      "metadata": {
        "id": "9sXE9XmP1Vn9"
      },
      "execution_count": null,
      "outputs": []
    },
    {
      "cell_type": "code",
      "source": [
        "#view data in db table\n",
        "\n",
        "curr.execute(\"SELECT * FROM VIDEOS\")\n",
        "print(curr.fetchall())"
      ],
      "metadata": {
        "id": "Bgk23M_-1buu"
      },
      "execution_count": null,
      "outputs": []
    }
  ]
}